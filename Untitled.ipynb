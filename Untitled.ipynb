{
 "cells": [
  {
   "cell_type": "code",
   "execution_count": null,
   "metadata": {},
   "outputs": [],
   "source": [
    "from serial.tools.list_ports import comports\n",
    "\n",
    "liste_comm = comports()\n",
    "for port in liste_comm:\n",
    "    for m in port.__dict__.keys():\n",
    "        print(m, \": \", port.__getattribute__(m))\n",
    "    print('-'*79)"
   ]
  },
  {
   "cell_type": "code",
   "execution_count": null,
   "metadata": {},
   "outputs": [],
   "source": []
  }
 ],
 "metadata": {
  "kernelspec": {
   "display_name": "Python 3.7.3 64-bit ('testDAQ': conda)",
   "language": "python",
   "name": "python37364bittestdaqconda5863f418e403425a8c08fbc35bc0c01f"
  },
  "language_info": {
   "codemirror_mode": {
    "name": "ipython",
    "version": 3
   },
   "file_extension": ".py",
   "mimetype": "text/x-python",
   "name": "python",
   "nbconvert_exporter": "python",
   "pygments_lexer": "ipython3",
   "version": "3.7.3"
  }
 },
 "nbformat": 4,
 "nbformat_minor": 4
}
