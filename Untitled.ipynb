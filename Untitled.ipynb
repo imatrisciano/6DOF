{
 "cells": [
  {
   "cell_type": "code",
   "execution_count": 1,
   "metadata": {},
   "outputs": [
    {
     "name": "stdout",
     "output_type": "stream",
     "text": [
      "device :  COM7\n",
      "name :  None\n",
      "description :  USB Serial Port (COM7)\n",
      "hwid :  USB VID:PID=0403:6001 SER=A96V8YIA\n",
      "vid :  1027\n",
      "pid :  24577\n",
      "serial_number :  A96V8YIA\n",
      "location :  None\n",
      "manufacturer :  FTDI\n",
      "product :  None\n",
      "interface :  None\n",
      "-------------------------------------------------------------------------------\n",
      "device :  COM3\n",
      "name :  None\n",
      "description :  u-blox Virtual COM Port (COM3)\n",
      "hwid :  ROOT\\UBLOXVCP\\0000\n",
      "vid :  None\n",
      "pid :  None\n",
      "serial_number :  None\n",
      "location :  None\n",
      "manufacturer :  u-blox AG\n",
      "product :  None\n",
      "interface :  None\n",
      "-------------------------------------------------------------------------------\n"
     ]
    }
   ],
   "source": [
    "from serial.tools.list_ports import comports\n",
    "\n",
    "liste_comm = comports()\n",
    "for port in liste_comm:\n",
    "    for m in port.__dict__.keys():\n",
    "        print(m, \": \", port.__getattribute__(m))\n",
    "    print('-'*79)"
   ]
  },
  {
   "cell_type": "code",
   "execution_count": 2,
   "metadata": {},
   "outputs": [],
   "source": [
    "motor_id = 1\n",
    "port='COM7'"
   ]
  },
  {
   "cell_type": "code",
   "execution_count": 3,
   "metadata": {},
   "outputs": [],
   "source": [
    "from pymodbus.client.sync import ModbusSerialClient as ModbusClient"
   ]
  },
  {
   "cell_type": "code",
   "execution_count": 4,
   "metadata": {},
   "outputs": [],
   "source": [
    "client = ModbusClient(method='rtu', port=port, stopbits=1, bytesize=8, parity='O', baudrate=115200, strict=False)"
   ]
  },
  {
   "cell_type": "code",
   "execution_count": 5,
   "metadata": {},
   "outputs": [],
   "source": [
    "def read_holding_register(mb_addr, unit=motor_id):\n",
    "    rr = client.read_holding_registers(mb_addr, 1, unit=unit)\n",
    "    return rr.getRegister(0)\n",
    "\n",
    "def write_register(mb_addr, val, unit=motor_id):\n",
    "    client.write_register(mb_addr, val, unit=unit)\n",
    "    \n",
    "def read_coil(mb_addr, slave=motor_id):\n",
    "    return client.read_coils(mb_addr, slave=slave)\n",
    "\n",
    "def write_coil(mb_addr, val:bool, slave=motor_id):\n",
    "    client.write_coil(mb_addr, val)"
   ]
  },
  {
   "cell_type": "markdown",
   "metadata": {},
   "source": [
    "# config system: motor_type"
   ]
  },
  {
   "cell_type": "code",
   "execution_count": 6,
   "metadata": {},
   "outputs": [
    {
     "name": "stdout",
     "output_type": "stream",
     "text": [
      "motor type: 4. (4 for 80st_m02430)\n"
     ]
    }
   ],
   "source": [
    "Pn, val = 1, 4\n",
    "motor_type = read_holding_register(Pn)\n",
    "print(f\"motor type: {motor_type}. (4 for 80st_m02430)\")\n",
    "if motor_type != val:\n",
    "    print(f\"motor_type was {motor_type}. Now set to {val}...\")\n",
    "    write_register(Pn, val)"
   ]
  },
  {
   "cell_type": "markdown",
   "metadata": {},
   "source": [
    "# config system: enable driver\n",
    "Pn, val = 3, 1\n",
    "enable_driver = read_holding_register(Pn)\n",
    "print(f\"enable driver: {enable_driver}. 1 for enabling after power on\")\n",
    "if enable_driver != val:\n",
    "    print(f\"enable_driver was {enable_driver}. Now set to {val}...\")\n",
    "    write_register(Pn, val)"
   ]
  },
  {
   "cell_type": "code",
   "execution_count": 10,
   "metadata": {},
   "outputs": [
    {
     "data": {
      "text/plain": [
       "32767"
      ]
     },
     "execution_count": 10,
     "metadata": {},
     "output_type": "execute_result"
    }
   ],
   "source": [
    "read_holding_register(71)"
   ]
  },
  {
   "cell_type": "markdown",
   "metadata": {},
   "source": [
    "client.write_register(3, 0, unit=motor_id)"
   ]
  },
  {
   "cell_type": "code",
   "execution_count": null,
   "metadata": {},
   "outputs": [],
   "source": []
  },
  {
   "cell_type": "markdown",
   "metadata": {},
   "source": [
    "# position mode: read & set fixed prms"
   ]
  },
  {
   "cell_type": "code",
   "execution_count": 92,
   "metadata": {},
   "outputs": [],
   "source": [
    "# define dictionary for storing registers\n",
    "keyList = ['Punlock', 'Pdistance', 'Psource', \n",
    "           'Pstop', 'Ptrigger', 'Pos2', 'Pos1', \n",
    "           'REF', 'GOH', 'PC', 'INH', \n",
    "           'Pclear', 'Cinv', 'Gn2', 'Gn1', \n",
    "           'Cgain', 'Cmode', 'TR2', \n",
    "           'TR1', 'Sp3', 'Sp2', 'Sp1', \n",
    "           'ZeroLock', 'EMG', 'TCW', 'TCCW', \n",
    "           'CWL', 'CCWL', 'AlarmRst', 'SON', \n",
    "          ]\n",
    "SigIns = {key: None for key in keyList}\n",
    "\n",
    "# read input function control mode select registers 1&2. (0:analog, 1:internal)\n",
    "Pn = 68\n",
    "val =  read_holding_register(Pn)\n",
    "reg1_mode = bin(val).replace('0b', '').zfill(15)\n",
    "for i in range(len(reg1_mode)):\n",
    "    SigIns[keyList[i+15]]={'internal': int(reg1_mode[i])}\n",
    "\n",
    "Pn = 69\n",
    "val =  read_holding_register(Pn)\n",
    "reg2_mode = bin(val).replace('0b', '').zfill(15)\n",
    "for i in range(len(reg2_mode)):\n",
    "    SigIns[keyList[i]]={'internal': int(reg2_mode[i])}\n",
    "\n",
    "# read input function logic state  registers 1&2 (0:Off, 1:On)\n",
    "Pn = 70\n",
    "val =  read_holding_register(Pn)\n",
    "reg1_enable = bin(val).replace('0b', '').zfill(15)\n",
    "for i in range(len(reg1_enable)):\n",
    "    SigIns[keyList[i+15]]['enable'] = int(reg1_enable[i])\n",
    "\n",
    "Pn = 71\n",
    "val =  read_holding_register(Pn)\n",
    "reg2_enable = bin(val).replace('0b', '').zfill(15)\n",
    "for i in range(len(reg2_enable)):\n",
    "    SigIns[keyList[i]]['enable'] = int(reg2_enable[i])\n"
   ]
  },
  {
   "cell_type": "code",
   "execution_count": 93,
   "metadata": {},
   "outputs": [
    {
     "data": {
      "text/plain": [
       "{'Punlock': {'internal': 0, 'enable': 1},\n",
       " 'Pdistance': {'internal': 0, 'enable': 1},\n",
       " 'Psource': {'internal': 0, 'enable': 1},\n",
       " 'Pstop': {'internal': 0, 'enable': 1},\n",
       " 'Ptrigger': {'internal': 1, 'enable': 1},\n",
       " 'Pos2': {'internal': 0, 'enable': 1},\n",
       " 'Pos1': {'internal': 0, 'enable': 1},\n",
       " 'REF': {'internal': 0, 'enable': 1},\n",
       " 'GOH': {'internal': 0, 'enable': 1},\n",
       " 'PC': {'internal': 0, 'enable': 1},\n",
       " 'INH': {'internal': 0, 'enable': 1},\n",
       " 'Pclear': {'internal': 0, 'enable': 1},\n",
       " 'Cinv': {'internal': 0, 'enable': 1},\n",
       " 'Gn2': {'internal': 0, 'enable': 1},\n",
       " 'Gn1': {'internal': 0, 'enable': 1},\n",
       " 'Cgain': {'internal': 0, 'enable': 1},\n",
       " 'Cmode': {'internal': 0, 'enable': 1},\n",
       " 'TR2': {'internal': 0, 'enable': 1},\n",
       " 'TR1': {'internal': 0, 'enable': 1},\n",
       " 'Sp3': {'internal': 0, 'enable': 1},\n",
       " 'Sp2': {'internal': 0, 'enable': 1},\n",
       " 'Sp1': {'internal': 0, 'enable': 1},\n",
       " 'ZeroLock': {'internal': 0, 'enable': 1},\n",
       " 'EMG': {'internal': 0, 'enable': 0},\n",
       " 'TCW': {'internal': 0, 'enable': 1},\n",
       " 'TCCW': {'internal': 0, 'enable': 1},\n",
       " 'CWL': {'internal': 0, 'enable': 0},\n",
       " 'CCWL': {'internal': 0, 'enable': 0},\n",
       " 'AlarmRst': {'internal': 0, 'enable': 1},\n",
       " 'SON': {'internal': 0, 'enable': 1}}"
      ]
     },
     "execution_count": 93,
     "metadata": {},
     "output_type": "execute_result"
    }
   ],
   "source": [
    "SigIns"
   ]
  },
  {
   "cell_type": "code",
   "execution_count": 45,
   "metadata": {},
   "outputs": [
    {
     "name": "stdout",
     "output_type": "stream",
     "text": [
      "reg2_mode was 0. Now set to 1024...\n",
      "Ptrigger is: {'internal': 1, 'enable': 1}\n"
     ]
    }
   ],
   "source": [
    "# write Pn069 to allow internal control of Ptrigger (Bit10)\n",
    "Pn, bit_pos = 69, 10\n",
    "list_reg2 = list(reg2_mode)\n",
    "list_reg2[15-bit_pos-1]='1'\n",
    "reg2_mode=''\n",
    "for elm in list_reg2:\n",
    "    reg2_mode += elm\n",
    "val = int(reg2_mode, 2)\n",
    "val2 = read_holding_register(Pn)\n",
    "if val2 != val:\n",
    "    print(f\"reg2_mode was {val2}. Now set to {val}...\")\n",
    "    write_register(Pn, val)\n",
    "\n",
    "val2 = read_holding_register(Pn)\n",
    "reg2_mode = bin(val2).replace('0b', '').zfill(15)\n",
    "for i in range(len(reg2_mode)):\n",
    "    SigIns[keyList[i]]['internal'] = int(reg2_mode[i])\n",
    "print(f\"Ptrigger is: {SigIns[keyList[15-bit_pos-1]]}\")"
   ]
  },
  {
   "cell_type": "code",
   "execution_count": null,
   "metadata": {},
   "outputs": [],
   "source": []
  },
  {
   "cell_type": "code",
   "execution_count": null,
   "metadata": {},
   "outputs": [],
   "source": []
  },
  {
   "cell_type": "code",
   "execution_count": 46,
   "metadata": {},
   "outputs": [
    {
     "name": "stdout",
     "output_type": "stream",
     "text": [
      "control mode: 2. (2 for position mode)\n",
      "\n",
      "Please, POWER CYCLE the driver to take effect.\n"
     ]
    }
   ],
   "source": [
    "Pn, val = 2, 2\n",
    "control_mode =  read_holding_register(Pn)\n",
    "print(f\"control mode: {control_mode}. (2 for position mode)\")\n",
    "if control_mode != val:\n",
    "    print(f\"control_mode was {control_mode}. Now set to {val}...\")\n",
    "    write_register(Pn, val)\n",
    "    \n",
    "print(\"\\nPlease, POWER CYCLE the driver to take effect.\")"
   ]
  },
  {
   "cell_type": "code",
   "execution_count": null,
   "metadata": {},
   "outputs": [],
   "source": []
  },
  {
   "cell_type": "raw",
   "metadata": {},
   "source": [
    "# check after POWER CYCLED\n",
    "Pn, val = 2, 2\n",
    "control_mode =  read_holding_register(Pn)\n",
    "print(f\"control mode: {control_mode}. (2 for position mode)\")\n",
    "if control_mode != val:\n",
    "    print(f\"control_mode was {control_mode}. FAILED...\")\n",
    "#     write_register(Pn, val)"
   ]
  },
  {
   "cell_type": "code",
   "execution_count": null,
   "metadata": {},
   "outputs": [],
   "source": []
  },
  {
   "cell_type": "code",
   "execution_count": 47,
   "metadata": {},
   "outputs": [
    {
     "name": "stdout",
     "output_type": "stream",
     "text": [
      "pe_gear_ratio: 1.\n",
      "pe_gear_ratio was 1. Now set to 3...\n",
      "accel_decel_mode: 0. (2 for S-curve filter)\n",
      "accel_decel_mode was 0. Now set to 2...\n",
      "pos_cmd_src: 0. (1 for internal position src)\n",
      "pos_cmd_src was 0. Now set to 1...\n"
     ]
    }
   ],
   "source": [
    "# prepare for position action\n",
    "Pn, val = 101, 3 # (Gn2, Gn1) = (1, 1)\n",
    "pe_gear_ratio =  read_holding_register(Pn)\n",
    "print(f\"pe_gear_ratio: {pe_gear_ratio}.\")\n",
    "if pe_gear_ratio != val:\n",
    "    print(f\"pe_gear_ratio was {pe_gear_ratio}. Now set to {val}...\")\n",
    "    write_register(Pn, val)\n",
    "\n",
    "Pn, val = 109, 2 # accel&decel mode: S-curve filter\n",
    "accel_decel_mode =  read_holding_register(Pn)\n",
    "print(f\"accel_decel_mode: {accel_decel_mode}. (2 for S-curve filter)\")\n",
    "if accel_decel_mode != val:\n",
    "    print(f\"accel_decel_mode was {accel_decel_mode}. Now set to {val}...\")\n",
    "    write_register(Pn, val)\n",
    "\n",
    "Pn, val = 117, 1 # src sel\n",
    "pos_cmd_src =  read_holding_register(Pn)\n",
    "print(f\"pos_cmd_src: {pos_cmd_src}. (1 for internal position src)\")\n",
    "if pos_cmd_src != val:\n",
    "    print(f\"pos_cmd_src was {pos_cmd_src}. Now set to {val}...\")\n",
    "    write_register(Pn, val)"
   ]
  },
  {
   "cell_type": "markdown",
   "metadata": {},
   "source": [
    "# position action\n",
    "\n",
    "cf p32/46 Pn071"
   ]
  },
  {
   "cell_type": "code",
   "execution_count": 98,
   "metadata": {},
   "outputs": [
    {
     "name": "stdout",
     "output_type": "stream",
     "text": [
      "pulse number high: 2. (x 10 000 pulse)\n",
      "pulse number high was 2. Now set to 1...\n",
      "pulse number low: 5000. (x 10 000 pulse)\n"
     ]
    }
   ],
   "source": [
    "client.write_register(3, 1, unit=motor_id)\n",
    "\n",
    "Pn, val = 120, 1 & 0xffff # x 10 000 pulse. [-9999~9999]\n",
    "\n",
    "p_hight =  read_holding_register(Pn)\n",
    "print(f\"pulse number high: {p_hight}. (x 10 000 pulse)\")\n",
    "if p_hight != val:\n",
    "    print(f\"pulse number high was {p_hight}. Now set to {val}...\")\n",
    "    write_register(Pn, val)\n",
    "\n",
    "Pn, val = 121, 5000 & 0xffff # x 10 000 pulse. [-9999~9999]\n",
    "p_low =  read_holding_register(Pn)\n",
    "print(f\"pulse number low: {p_low}. (x 10 000 pulse)\")\n",
    "if p_low != val:\n",
    "    print(f\"pulse number low was {p_low}. Now set to {val}...\")\n",
    "    write_register(Pn, val)\n",
    "\n"
   ]
  },
  {
   "cell_type": "code",
   "execution_count": 99,
   "metadata": {},
   "outputs": [],
   "source": [
    "# trigger on\n",
    "Pn, bit_pos = 71, 10\n",
    "val =  read_holding_register(Pn)\n",
    "reg2_enable = bin(val).replace('0b', '').zfill(15)\n",
    "if reg2_enable[15-bit_pos-1]=='1': # set to low\n",
    "    list_reg2 = list(reg2_enable)\n",
    "    list_reg2[15-bit_pos-1]='0'\n",
    "    reg2_enable=''\n",
    "    for elm in list_reg2:\n",
    "        reg2_enable += elm\n",
    "    val = int(reg2_enable, 2)\n",
    "    write_register(Pn, val)\n",
    "list_reg2 = list(reg2_enable)\n",
    "list_reg2[15-bit_pos-1]='1'\n",
    "reg2_enable=''\n",
    "for elm in list_reg2:\n",
    "    reg2_enable += elm\n",
    "val = int(reg2_enable, 2)\n",
    "write_register(Pn, val)"
   ]
  },
  {
   "cell_type": "code",
   "execution_count": null,
   "metadata": {},
   "outputs": [],
   "source": []
  },
  {
   "cell_type": "code",
   "execution_count": 100,
   "metadata": {},
   "outputs": [
    {
     "data": {
      "text/plain": [
       "<pymodbus.register_write_message.WriteSingleRegisterResponse at 0x25454f5e128>"
      ]
     },
     "execution_count": 100,
     "metadata": {},
     "output_type": "execute_result"
    }
   ],
   "source": [
    "client.write_register(3, 0, unit=motor_id)"
   ]
  },
  {
   "cell_type": "code",
   "execution_count": null,
   "metadata": {},
   "outputs": [],
   "source": [
    "read_holding_register(121)"
   ]
  },
  {
   "cell_type": "code",
   "execution_count": null,
   "metadata": {},
   "outputs": [],
   "source": [
    "600 & 0xffff"
   ]
  },
  {
   "cell_type": "code",
   "execution_count": null,
   "metadata": {},
   "outputs": [],
   "source": []
  },
  {
   "cell_type": "code",
   "execution_count": null,
   "metadata": {},
   "outputs": [],
   "source": [
    "num = 64936\n",
    "\n",
    "# Convert to 16-bit signed integer\n",
    "if num & (1 << 15):\n",
    "    num = -((num ^ 0xffff) + 1)\n",
    "    \n",
    "print(f\"Signed integer value of {num}: {num}\")\n"
   ]
  },
  {
   "cell_type": "code",
   "execution_count": 101,
   "metadata": {},
   "outputs": [],
   "source": [
    "client.close()\n"
   ]
  },
  {
   "cell_type": "markdown",
   "metadata": {},
   "source": [
    "# speed mode: read & set fixed prms"
   ]
  },
  {
   "cell_type": "code",
   "execution_count": null,
   "metadata": {},
   "outputs": [],
   "source": [
    "Pn, val = 2, 1\n",
    "control_mode =  read_holding_register(Pn)\n",
    "print(f\"control mode: {control_mode}. (1 for speed mode)\")\n",
    "if control_mode != val:\n",
    "    print(f\"control_mode was {control_mode}. Now set to {val}...\")\n",
    "    write_register(Pn, val)\n",
    "    \n",
    "print(\"\\nPlease, POWER CYCLE the driver to take effect.\")"
   ]
  },
  {
   "cell_type": "code",
   "execution_count": null,
   "metadata": {},
   "outputs": [],
   "source": [
    "client.close()"
   ]
  },
  {
   "cell_type": "code",
   "execution_count": null,
   "metadata": {},
   "outputs": [],
   "source": [
    "client = ModbusClient(method='rtu', port=port, stopbits=1, bytesize=8, parity='O', baudrate=115200, strict=False)"
   ]
  },
  {
   "cell_type": "code",
   "execution_count": null,
   "metadata": {},
   "outputs": [],
   "source": [
    "read_holding_register(3)"
   ]
  },
  {
   "cell_type": "code",
   "execution_count": null,
   "metadata": {},
   "outputs": [],
   "source": [
    "write_register(3, 1)"
   ]
  },
  {
   "cell_type": "code",
   "execution_count": null,
   "metadata": {},
   "outputs": [],
   "source": []
  },
  {
   "cell_type": "code",
   "execution_count": null,
   "metadata": {},
   "outputs": [],
   "source": [
    "# check after POWER CYCLED\n",
    "Pn, val = 2, 1\n",
    "control_mode =  read_holding_register(Pn)\n",
    "print(f\"control mode: {control_mode}. (1 for speed mode)\")\n",
    "if control_mode != val:\n",
    "    print(f\"control_mode was {control_mode}. FAILED...\")"
   ]
  },
  {
   "cell_type": "code",
   "execution_count": null,
   "metadata": {},
   "outputs": [],
   "source": [
    "read_holding_register(2)"
   ]
  },
  {
   "cell_type": "code",
   "execution_count": null,
   "metadata": {},
   "outputs": [],
   "source": []
  },
  {
   "cell_type": "code",
   "execution_count": null,
   "metadata": {},
   "outputs": [],
   "source": []
  },
  {
   "cell_type": "code",
   "execution_count": null,
   "metadata": {},
   "outputs": [],
   "source": [
    "# prepare for speed action\n",
    "Pn, val = 146, 1 # accel&decel mode: S-curve filter\n",
    "accel_decel_mode =  read_holding_register(Pn)\n",
    "print(f\"accel_decel_mode: {accel_decel_mode}. (1 for S-curve filter)\")\n",
    "if accel_decel_mode != val:\n",
    "    print(f\"accel_decel_mode was {accel_decel_mode}. Now set to {val}...\")\n",
    "    write_register(Pn, val)\n",
    "\n",
    "Pn, val = 147, 10\n",
    "Ts =  read_holding_register(Pn)\n",
    "print(f\"Ts: {Ts} ms\")\n",
    "if Ts != val:\n",
    "    print(f\"Ts was {Ts} ms. Now set to {val} ms...\")\n",
    "    write_register(Pn, val)\n",
    "\n",
    "Pn, val = 148, 30\n",
    "Ta =  read_holding_register(Pn)\n",
    "print(f\"Ta: {Ta} ms\")\n",
    "if Ta != val:\n",
    "    print(f\"Ta was {Ta} ms. Now set to {val} ms...\")\n",
    "    write_register(Pn, val)\n",
    "\n",
    "Pn, val = 149, 100\n",
    "Td =  read_holding_register(Pn)\n",
    "print(f\"Td: {Td} ms\")\n",
    "if Td != val:\n",
    "    print(f\"Td was {Td} ms. Now set to {val} ms...\")\n",
    "    write_register(Pn, val)\n",
    "\n",
    "Pn, val = 168, 1 # src sel\n",
    "speed_cmd_src =  read_holding_register(Pn)\n",
    "print(f\"speed_cmd_src: {speed_cmd_src}. 1 for internal speed 1~8.\")\n",
    "if speed_cmd_src != val:\n",
    "    print(f\"speed_cmd_src was {speed_cmd_src}. Now set to {val}...\")\n",
    "    write_register(Pn, val)\n",
    "\n"
   ]
  },
  {
   "cell_type": "markdown",
   "metadata": {},
   "source": [
    "# Action speed :"
   ]
  },
  {
   "cell_type": "code",
   "execution_count": null,
   "metadata": {},
   "outputs": [],
   "source": [
    "client.write_register(3, 1, unit=motor_id)\n",
    "\n",
    "Pn, val = 169, 0\n",
    "speed_cmd_src =  read_holding_register(Pn)\n",
    "print(f\"speed_cmd_src: {Ta}. 1 for internal speed 1~8.\")\n",
    "if speed_cmd_src != val:\n",
    "    print(f\"speed_cmd_src was {speed_cmd_src}. Now set to {val}...\")\n",
    "    write_register(Pn, val)\n",
    "\n",
    "speed_cmd_src =  read_holding_register(Pn)\n",
    "print(f\"speed_cmd_src: {Ta}. 1 for internal speed 1~8.\")"
   ]
  },
  {
   "cell_type": "code",
   "execution_count": null,
   "metadata": {},
   "outputs": [],
   "source": [
    "client.write_register(3, 0, unit=motor_id)"
   ]
  },
  {
   "cell_type": "code",
   "execution_count": null,
   "metadata": {},
   "outputs": [],
   "source": [
    "read_holding_register(169)"
   ]
  },
  {
   "cell_type": "code",
   "execution_count": null,
   "metadata": {},
   "outputs": [],
   "source": []
  },
  {
   "cell_type": "code",
   "execution_count": null,
   "metadata": {},
   "outputs": [],
   "source": []
  },
  {
   "cell_type": "code",
   "execution_count": null,
   "metadata": {},
   "outputs": [],
   "source": []
  },
  {
   "cell_type": "code",
   "execution_count": null,
   "metadata": {},
   "outputs": [],
   "source": [
    "# client.connect()"
   ]
  },
  {
   "cell_type": "code",
   "execution_count": null,
   "metadata": {},
   "outputs": [],
   "source": [
    "client.stopbits, client.parity, client.bytesize"
   ]
  },
  {
   "cell_type": "markdown",
   "metadata": {},
   "source": [
    "# analyze integer encoder"
   ]
  },
  {
   "cell_type": "code",
   "execution_count": null,
   "metadata": {},
   "outputs": [],
   "source": [
    "start_addr, count = 68, 4\n",
    "rr = client.read_holding_registers(start_addr, count, unit=motor_id)\n",
    "for i in range(count):\n",
    "    print(f\"address {start_addr+i}: {rr.getRegister(i)}\")"
   ]
  },
  {
   "cell_type": "code",
   "execution_count": null,
   "metadata": {},
   "outputs": [],
   "source": [
    "number=32691\n",
    "bin(number).replace('0b',''), len(bin(number).replace('0b',''))"
   ]
  },
  {
   "cell_type": "code",
   "execution_count": null,
   "metadata": {},
   "outputs": [],
   "source": [
    "number=32767\n",
    "bin(number).replace('0b',''), len(bin(number).replace('0b',''))"
   ]
  },
  {
   "cell_type": "code",
   "execution_count": null,
   "metadata": {},
   "outputs": [],
   "source": [
    "number=1793\n",
    "bin(number).replace('0b',''), len(bin(number).replace('0b',''))"
   ]
  },
  {
   "cell_type": "code",
   "execution_count": null,
   "metadata": {},
   "outputs": [],
   "source": [
    "int('11100000001', 2)"
   ]
  },
  {
   "cell_type": "code",
   "execution_count": null,
   "metadata": {},
   "outputs": [],
   "source": [
    "bin(32691).replace('0b', '').zfill(15)"
   ]
  },
  {
   "cell_type": "code",
   "execution_count": null,
   "metadata": {},
   "outputs": [],
   "source": []
  },
  {
   "cell_type": "code",
   "execution_count": null,
   "metadata": {},
   "outputs": [],
   "source": [
    "start_addr, count = 8, 2\n",
    "rr = client.read_holding_registers(start_addr, count, unit=motor_id)\n",
    "for i in range(count):\n",
    "    print(f\"address {start_addr+i}: {rr.getRegister(i)}\")"
   ]
  },
  {
   "cell_type": "code",
   "execution_count": null,
   "metadata": {},
   "outputs": [],
   "source": [
    "number=300\n",
    "bin(number).replace('0b',''), len(bin(number).replace('0b',''))"
   ]
  },
  {
   "cell_type": "code",
   "execution_count": null,
   "metadata": {},
   "outputs": [],
   "source": [
    "number=65236\n",
    "bin(number).replace('0b',''), len(bin(number).replace('0b',''))"
   ]
  },
  {
   "cell_type": "code",
   "execution_count": null,
   "metadata": {},
   "outputs": [],
   "source": [
    "num = -300\n",
    "# num = -600\n",
    "\n",
    "# Convert to 16-bit signed integer\n",
    "num_16bit = num & 0xffff\n",
    "if num_16bit & (1 << 15):\n",
    "    num_16bit = -(num_16bit & 0x7fff)\n",
    "\n",
    "print(f\"16-bit signed integer value of {num}: {num_16bit}\")\n",
    "\n",
    "# Convert to 32-bit signed integer\n",
    "num_32bit = num & 0xffffffff\n",
    "if num_32bit & (1 << 31):\n",
    "    num_32bit = -(num_32bit & 0x7fffffff)\n",
    "\n",
    "print(f\"32-bit signed integer value of {num}: {num_32bit}\")\n"
   ]
  },
  {
   "cell_type": "markdown",
   "metadata": {},
   "source": [
    "# code for signed integer"
   ]
  },
  {
   "cell_type": "code",
   "execution_count": null,
   "metadata": {},
   "outputs": [],
   "source": [
    "-600 & 0xffff"
   ]
  },
  {
   "cell_type": "code",
   "execution_count": null,
   "metadata": {},
   "outputs": [],
   "source": [
    "num = 64936\n",
    "\n",
    "# Convert to 16-bit signed integer\n",
    "if num & (1 << 15):\n",
    "    num = -((num ^ 0xffff) + 1)\n",
    "    \n",
    "print(f\"Signed integer value of {num}: {num}\")\n"
   ]
  },
  {
   "cell_type": "code",
   "execution_count": null,
   "metadata": {},
   "outputs": [],
   "source": [
    "rr.getRegister(1).bit_length()"
   ]
  },
  {
   "cell_type": "markdown",
   "metadata": {},
   "source": [
    "# read Alarm"
   ]
  },
  {
   "cell_type": "code",
   "execution_count": null,
   "metadata": {},
   "outputs": [],
   "source": [
    "start_addr, count = 356, 10\n",
    "for i in range(start_addr, start_addr+count):\n",
    "    v = read_holding_register(i)\n",
    "    l = len(bin(v).replace('0b',''))\n",
    "    print(f\"address {i}: {v}. len = {l}\")"
   ]
  },
  {
   "cell_type": "code",
   "execution_count": null,
   "metadata": {},
   "outputs": [],
   "source": [
    "read_holding_register(356)"
   ]
  },
  {
   "cell_type": "code",
   "execution_count": null,
   "metadata": {},
   "outputs": [],
   "source": [
    "start_addr = 9\n",
    "rr = client.read_holding_registers(start_addr, 1, unit=motor_id)"
   ]
  },
  {
   "cell_type": "code",
   "execution_count": null,
   "metadata": {},
   "outputs": [],
   "source": [
    "rr.getRegister(0)"
   ]
  },
  {
   "cell_type": "code",
   "execution_count": null,
   "metadata": {},
   "outputs": [],
   "source": []
  },
  {
   "cell_type": "code",
   "execution_count": null,
   "metadata": {},
   "outputs": [],
   "source": [
    "#dir(rr.getRegister(0))"
   ]
  },
  {
   "cell_type": "code",
   "execution_count": null,
   "metadata": {},
   "outputs": [],
   "source": [
    "help(rr.getRegister(0).from_bytes)"
   ]
  },
  {
   "cell_type": "code",
   "execution_count": null,
   "metadata": {},
   "outputs": [],
   "source": [
    "rr.getRegister(0).bit_length()"
   ]
  },
  {
   "cell_type": "code",
   "execution_count": null,
   "metadata": {},
   "outputs": [],
   "source": [
    "start_addr, count = 1, 1\n",
    "rr = client.read_holding_registers(start_addr, count, unit=motor_id)\n",
    "for i in range(count):\n",
    "    print(f\"address {start_addr+i}: {rr.getRegister(i)}\")"
   ]
  },
  {
   "cell_type": "code",
   "execution_count": null,
   "metadata": {},
   "outputs": [],
   "source": [
    "Pn, count = 8, 2\n",
    "rr = client.read_holding_registers(Pn, count, unit=motor_id)\n",
    "for i in range(count):\n",
    "    print(f\"address {i}: {rr.getRegister(i)}\")"
   ]
  },
  {
   "cell_type": "code",
   "execution_count": null,
   "metadata": {},
   "outputs": [],
   "source": []
  },
  {
   "cell_type": "code",
   "execution_count": null,
   "metadata": {},
   "outputs": [],
   "source": [
    "client.close()"
   ]
  },
  {
   "cell_type": "code",
   "execution_count": null,
   "metadata": {},
   "outputs": [],
   "source": [
    "from ac_servo_rtu_backend import ModbusClient, AASD_15A"
   ]
  },
  {
   "cell_type": "code",
   "execution_count": null,
   "metadata": {},
   "outputs": [],
   "source": [
    "from pymodbus.client import AsyncModbusSerialClient"
   ]
  },
  {
   "cell_type": "code",
   "execution_count": null,
   "metadata": {},
   "outputs": [],
   "source": [
    "client = ModbusClient(method='rtu', \n",
    "                    port=port,\n",
    "                    timeout=1, \n",
    "                    baurate=115200,\n",
    "                   strict=False)"
   ]
  },
  {
   "cell_type": "code",
   "execution_count": null,
   "metadata": {},
   "outputs": [],
   "source": [
    "# read\n",
    "Pn, nbyte = 1, 1\n",
    "rr = client.read_holding_registers(Pn, nbyte, unit=motor_id)"
   ]
  },
  {
   "cell_type": "code",
   "execution_count": null,
   "metadata": {},
   "outputs": [],
   "source": [
    "rr.getRegister(0)"
   ]
  },
  {
   "cell_type": "code",
   "execution_count": null,
   "metadata": {},
   "outputs": [],
   "source": [
    "client.baudrate, client.bytesize"
   ]
  },
  {
   "cell_type": "code",
   "execution_count": null,
   "metadata": {},
   "outputs": [],
   "source": [
    "client.close()"
   ]
  },
  {
   "cell_type": "code",
   "execution_count": null,
   "metadata": {},
   "outputs": [],
   "source": [
    "dir(client)"
   ]
  },
  {
   "cell_type": "code",
   "execution_count": null,
   "metadata": {},
   "outputs": [],
   "source": [
    "# write\n",
    "Pn, value = 0, 3\n"
   ]
  }
 ],
 "metadata": {
  "kernelspec": {
   "display_name": "Python 3.7.3 64-bit ('testDAQ': conda)",
   "language": "python",
   "name": "python37364bittestdaqconda5863f418e403425a8c08fbc35bc0c01f"
  },
  "language_info": {
   "codemirror_mode": {
    "name": "ipython",
    "version": 3
   },
   "file_extension": ".py",
   "mimetype": "text/x-python",
   "name": "python",
   "nbconvert_exporter": "python",
   "pygments_lexer": "ipython3",
   "version": "3.7.3"
  }
 },
 "nbformat": 4,
 "nbformat_minor": 4
}
