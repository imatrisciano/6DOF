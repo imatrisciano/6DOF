{
 "cells": [
  {
   "cell_type": "code",
   "execution_count": 1,
   "metadata": {},
   "outputs": [
    {
     "name": "stdout",
     "output_type": "stream",
     "text": [
      "device :  COM7\n",
      "name :  None\n",
      "description :  USB Serial Port (COM7)\n",
      "hwid :  USB VID:PID=0403:6001 SER=A96V8YIA\n",
      "vid :  1027\n",
      "pid :  24577\n",
      "serial_number :  A96V8YIA\n",
      "location :  None\n",
      "manufacturer :  FTDI\n",
      "product :  None\n",
      "interface :  None\n",
      "-------------------------------------------------------------------------------\n",
      "device :  COM3\n",
      "name :  None\n",
      "description :  u-blox Virtual COM Port (COM3)\n",
      "hwid :  ROOT\\UBLOXVCP\\0000\n",
      "vid :  None\n",
      "pid :  None\n",
      "serial_number :  None\n",
      "location :  None\n",
      "manufacturer :  u-blox AG\n",
      "product :  None\n",
      "interface :  None\n",
      "-------------------------------------------------------------------------------\n"
     ]
    }
   ],
   "source": [
    "from serial.tools.list_ports import comports\n",
    "\n",
    "liste_comm = comports()\n",
    "for port in liste_comm:\n",
    "    for m in port.__dict__.keys():\n",
    "        print(m, \": \", port.__getattribute__(m))\n",
    "    print('-'*79)"
   ]
  },
  {
   "cell_type": "code",
   "execution_count": 2,
   "metadata": {},
   "outputs": [],
   "source": [
    "motor_id = 1\n",
    "port='COM7'"
   ]
  },
  {
   "cell_type": "code",
   "execution_count": 3,
   "metadata": {},
   "outputs": [],
   "source": [
    "from pymodbus.client.sync import ModbusSerialClient as ModbusClient"
   ]
  },
  {
   "cell_type": "code",
   "execution_count": 4,
   "metadata": {},
   "outputs": [],
   "source": [
    "client = ModbusClient(method='rtu', port=port, stopbits=1, bytesize=8, parity='O', baudrate=115200, strict=False)"
   ]
  },
  {
   "cell_type": "code",
   "execution_count": null,
   "metadata": {},
   "outputs": [],
   "source": [
    "# client.connect()"
   ]
  },
  {
   "cell_type": "code",
   "execution_count": null,
   "metadata": {},
   "outputs": [],
   "source": [
    "client.stopbits, client.parity, client.bytesize"
   ]
  },
  {
   "cell_type": "code",
   "execution_count": 5,
   "metadata": {},
   "outputs": [
    {
     "name": "stdout",
     "output_type": "stream",
     "text": [
      "address 8: 300\n",
      "address 9: 65236\n"
     ]
    }
   ],
   "source": [
    "start_addr, count = 8, 2\n",
    "rr = client.read_holding_registers(start_addr, count, unit=motor_id)\n",
    "for i in range(count):\n",
    "    print(f\"address {start_addr+i}: {rr.getRegister(i)}\")"
   ]
  },
  {
   "cell_type": "code",
   "execution_count": null,
   "metadata": {},
   "outputs": [],
   "source": [
    "number=300\n",
    "bin(number).replace('0b',''), len(bin(number).replace('0b',''))"
   ]
  },
  {
   "cell_type": "code",
   "execution_count": null,
   "metadata": {},
   "outputs": [],
   "source": [
    "number=65236\n",
    "bin(number).replace('0b',''), len(bin(number).replace('0b',''))"
   ]
  },
  {
   "cell_type": "code",
   "execution_count": 6,
   "metadata": {},
   "outputs": [
    {
     "name": "stdout",
     "output_type": "stream",
     "text": [
      "16-bit signed integer value of -300: -32468\n",
      "32-bit signed integer value of -300: -2147483348\n"
     ]
    }
   ],
   "source": [
    "num = -300\n",
    "\n",
    "# Convert to 16-bit signed integer\n",
    "num_16bit = num & 0xffff\n",
    "if num_16bit & (1 << 15):\n",
    "    num_16bit = -(num_16bit & 0x7fff)\n",
    "\n",
    "print(f\"16-bit signed integer value of {num}: {num_16bit}\")\n",
    "\n",
    "# Convert to 32-bit signed integer\n",
    "num_32bit = num & 0xffffffff\n",
    "if num_32bit & (1 << 31):\n",
    "    num_32bit = -(num_32bit & 0x7fffffff)\n",
    "\n",
    "print(f\"32-bit signed integer value of {num}: {num_32bit}\")\n"
   ]
  },
  {
   "cell_type": "code",
   "execution_count": null,
   "metadata": {},
   "outputs": [],
   "source": [
    "-300 & 0xffff"
   ]
  },
  {
   "cell_type": "code",
   "execution_count": 7,
   "metadata": {},
   "outputs": [
    {
     "name": "stdout",
     "output_type": "stream",
     "text": [
      "Signed integer value of -300: -300\n"
     ]
    }
   ],
   "source": [
    "num = 65236\n",
    "\n",
    "# Convert to 16-bit signed integer\n",
    "if num & (1 << 15):\n",
    "    num = -((num ^ 0xffff) + 1)\n",
    "    \n",
    "print(f\"Signed integer value of {num}: {num}\")\n"
   ]
  },
  {
   "cell_type": "code",
   "execution_count": null,
   "metadata": {},
   "outputs": [],
   "source": [
    "rr.getRegister(1).bit_length()"
   ]
  },
  {
   "cell_type": "code",
   "execution_count": null,
   "metadata": {},
   "outputs": [],
   "source": []
  },
  {
   "cell_type": "code",
   "execution_count": null,
   "metadata": {},
   "outputs": [],
   "source": [
    "#dir(rr.getRegister(0))"
   ]
  },
  {
   "cell_type": "code",
   "execution_count": null,
   "metadata": {},
   "outputs": [],
   "source": [
    "help(rr.getRegister(0).from_bytes)"
   ]
  },
  {
   "cell_type": "code",
   "execution_count": null,
   "metadata": {},
   "outputs": [],
   "source": [
    "rr.getRegister(0).bit_length()"
   ]
  },
  {
   "cell_type": "code",
   "execution_count": null,
   "metadata": {},
   "outputs": [],
   "source": [
    "start_addr, count = 1, 1\n",
    "rr = client.read_holding_registers(start_addr, count, unit=motor_id)\n",
    "for i in range(count):\n",
    "    print(f\"address {start_addr+i}: {rr.getRegister(i)}\")"
   ]
  },
  {
   "cell_type": "code",
   "execution_count": null,
   "metadata": {},
   "outputs": [],
   "source": [
    "Pn, count = 8, 2\n",
    "rr = client.read_holding_registers(Pn, count, unit=motor_id)\n",
    "for i in range(count):\n",
    "    print(f\"address {i}: {rr.getRegister(i)}\")"
   ]
  },
  {
   "cell_type": "code",
   "execution_count": null,
   "metadata": {},
   "outputs": [],
   "source": []
  },
  {
   "cell_type": "code",
   "execution_count": null,
   "metadata": {},
   "outputs": [],
   "source": [
    "client.close()"
   ]
  },
  {
   "cell_type": "code",
   "execution_count": null,
   "metadata": {},
   "outputs": [],
   "source": [
    "from ac_servo_rtu_backend import ModbusClient, AASD_15A"
   ]
  },
  {
   "cell_type": "code",
   "execution_count": null,
   "metadata": {},
   "outputs": [],
   "source": [
    "from pymodbus.client import AsyncModbusSerialClient"
   ]
  },
  {
   "cell_type": "code",
   "execution_count": null,
   "metadata": {},
   "outputs": [],
   "source": [
    "client = ModbusClient(method='rtu', \n",
    "                    port=port,\n",
    "                    timeout=1, \n",
    "                    baurate=115200,\n",
    "                   strict=False)"
   ]
  },
  {
   "cell_type": "code",
   "execution_count": null,
   "metadata": {},
   "outputs": [],
   "source": [
    "# read\n",
    "Pn, nbyte = 1, 1\n",
    "rr = client.read_holding_registers(Pn, nbyte, unit=motor_id)"
   ]
  },
  {
   "cell_type": "code",
   "execution_count": null,
   "metadata": {},
   "outputs": [],
   "source": [
    "rr.getRegister(0)"
   ]
  },
  {
   "cell_type": "code",
   "execution_count": null,
   "metadata": {},
   "outputs": [],
   "source": [
    "client.baudrate, client.bytesize"
   ]
  },
  {
   "cell_type": "code",
   "execution_count": null,
   "metadata": {},
   "outputs": [],
   "source": [
    "client.close()"
   ]
  },
  {
   "cell_type": "code",
   "execution_count": null,
   "metadata": {},
   "outputs": [],
   "source": [
    "dir(client)"
   ]
  },
  {
   "cell_type": "code",
   "execution_count": null,
   "metadata": {},
   "outputs": [],
   "source": [
    "# write\n",
    "Pn, value = 0, 3\n"
   ]
  }
 ],
 "metadata": {
  "kernelspec": {
   "display_name": "Python 3.7.3 64-bit ('testDAQ': conda)",
   "language": "python",
   "name": "python37364bittestdaqconda5863f418e403425a8c08fbc35bc0c01f"
  },
  "language_info": {
   "codemirror_mode": {
    "name": "ipython",
    "version": 3
   },
   "file_extension": ".py",
   "mimetype": "text/x-python",
   "name": "python",
   "nbconvert_exporter": "python",
   "pygments_lexer": "ipython3",
   "version": "3.7.3"
  }
 },
 "nbformat": 4,
 "nbformat_minor": 4
}
