{
 "cells": [
  {
   "cell_type": "code",
   "execution_count": 1,
   "metadata": {},
   "outputs": [
    {
     "name": "stdout",
     "output_type": "stream",
     "text": [
      "device :  COM3\n",
      "name :  None\n",
      "description :  u-blox Virtual COM Port (COM3)\n",
      "hwid :  ROOT\\UBLOXVCP\\0000\n",
      "vid :  None\n",
      "pid :  None\n",
      "serial_number :  None\n",
      "location :  None\n",
      "manufacturer :  u-blox AG\n",
      "product :  None\n",
      "interface :  None\n",
      "-------------------------------------------------------------------------------\n",
      "device :  COM8\n",
      "name :  None\n",
      "description :  USB Serial Port (COM8)\n",
      "hwid :  USB VID:PID=0403:6001 SER=AU04OX3TA\n",
      "vid :  1027\n",
      "pid :  24577\n",
      "serial_number :  AU04OX3TA\n",
      "location :  None\n",
      "manufacturer :  FTDI\n",
      "product :  None\n",
      "interface :  None\n",
      "-------------------------------------------------------------------------------\n"
     ]
    }
   ],
   "source": [
    "from serial.tools.list_ports import comports\n",
    "\n",
    "liste_comm = comports()\n",
    "for port in liste_comm:\n",
    "    for m in port.__dict__.keys():\n",
    "        print(m, \": \", port.__getattribute__(m))\n",
    "    print('-'*79)"
   ]
  },
  {
   "cell_type": "code",
   "execution_count": 2,
   "metadata": {},
   "outputs": [],
   "source": [
    "motor_id = 1\n",
    "port='COM8'"
   ]
  },
  {
   "cell_type": "code",
   "execution_count": 3,
   "metadata": {},
   "outputs": [],
   "source": [
    "from pymodbus.client.sync import ModbusSerialClient as ModbusClient"
   ]
  },
  {
   "cell_type": "code",
   "execution_count": 4,
   "metadata": {},
   "outputs": [],
   "source": [
    "client = ModbusClient(method='rtu', port='COM8', stopbits=1, bytesize=8, parity='O', baudrate=115200, strict=False)"
   ]
  },
  {
   "cell_type": "code",
   "execution_count": null,
   "metadata": {},
   "outputs": [],
   "source": [
    "# client.connect()"
   ]
  },
  {
   "cell_type": "code",
   "execution_count": 5,
   "metadata": {},
   "outputs": [
    {
     "data": {
      "text/plain": [
       "(1, 'O', 8)"
      ]
     },
     "execution_count": 5,
     "metadata": {},
     "output_type": "execute_result"
    }
   ],
   "source": [
    "client.stopbits, client.parity, client.bytesize"
   ]
  },
  {
   "cell_type": "code",
   "execution_count": 6,
   "metadata": {},
   "outputs": [],
   "source": [
    "Pn, nbyte = 0, 1\n",
    "rr = client.read_holding_registers(Pn, nbyte, unit=motor_id)"
   ]
  },
  {
   "cell_type": "code",
   "execution_count": 7,
   "metadata": {},
   "outputs": [
    {
     "data": {
      "text/plain": [
       "1"
      ]
     },
     "execution_count": 7,
     "metadata": {},
     "output_type": "execute_result"
    }
   ],
   "source": [
    "rr.getRegister(0)"
   ]
  },
  {
   "cell_type": "code",
   "execution_count": null,
   "metadata": {},
   "outputs": [],
   "source": []
  },
  {
   "cell_type": "code",
   "execution_count": null,
   "metadata": {},
   "outputs": [],
   "source": [
    "client.close()"
   ]
  },
  {
   "cell_type": "code",
   "execution_count": null,
   "metadata": {},
   "outputs": [],
   "source": []
  },
  {
   "cell_type": "code",
   "execution_count": null,
   "metadata": {},
   "outputs": [],
   "source": [
    "from ac_servo_rtu_backend import ModbusClient, AASD_15A"
   ]
  },
  {
   "cell_type": "code",
   "execution_count": null,
   "metadata": {},
   "outputs": [],
   "source": [
    "from pymodbus.client import AsyncModbusSerialClient"
   ]
  },
  {
   "cell_type": "code",
   "execution_count": null,
   "metadata": {},
   "outputs": [],
   "source": [
    "client = ModbusClient(method='rtu', \n",
    "                    port=port,\n",
    "                    timeout=1, \n",
    "                    baurate=115200,\n",
    "                   strict=False)"
   ]
  },
  {
   "cell_type": "code",
   "execution_count": null,
   "metadata": {},
   "outputs": [],
   "source": [
    "# read\n",
    "Pn, nbyte = 1, 1\n",
    "rr = client.read_holding_registers(Pn, nbyte, unit=motor_id)"
   ]
  },
  {
   "cell_type": "code",
   "execution_count": null,
   "metadata": {},
   "outputs": [],
   "source": [
    "rr.getRegister(0)"
   ]
  },
  {
   "cell_type": "code",
   "execution_count": null,
   "metadata": {},
   "outputs": [],
   "source": [
    "client.baudrate, client.bytesize"
   ]
  },
  {
   "cell_type": "code",
   "execution_count": 8,
   "metadata": {},
   "outputs": [],
   "source": [
    "client.close()"
   ]
  },
  {
   "cell_type": "code",
   "execution_count": null,
   "metadata": {},
   "outputs": [],
   "source": [
    "dir(client)"
   ]
  },
  {
   "cell_type": "code",
   "execution_count": null,
   "metadata": {},
   "outputs": [],
   "source": [
    "# write\n",
    "Pn, value = 0, 3\n"
   ]
  }
 ],
 "metadata": {
  "kernelspec": {
   "display_name": "Python 3.7.3 64-bit ('testDAQ': conda)",
   "language": "python",
   "name": "python37364bittestdaqconda5863f418e403425a8c08fbc35bc0c01f"
  },
  "language_info": {
   "codemirror_mode": {
    "name": "ipython",
    "version": 3
   },
   "file_extension": ".py",
   "mimetype": "text/x-python",
   "name": "python",
   "nbconvert_exporter": "python",
   "pygments_lexer": "ipython3",
   "version": "3.7.3"
  }
 },
 "nbformat": 4,
 "nbformat_minor": 4
}
